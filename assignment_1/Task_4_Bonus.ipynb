{
 "cells": [
  {
   "cell_type": "code",
   "execution_count": null,
   "metadata": {},
   "outputs": [],
   "source": [
    "# Copyright 2020 IITK EE604A Image Processing. All Rights Reserved.\n",
    "# \n",
    "# Licensed under the MIT License. Use and/or modification of this code outside of EE604 must reference:\n",
    "#\n",
    "# © IITK EE604A Image Processing \n",
    "# https://github.com/ee604/ee604_assignments\n",
    "#\n",
    "# Author: Shashi Kant Gupta, Cheeranjeev and Prof K. S. Venkatesh, Department of Electrical Engineering, IIT Kanpur"
   ]
  },
  {
   "cell_type": "markdown",
   "metadata": {},
   "source": [
    "# Task 4 (Bonus Question): Using Optical Flow and Pinhole Camera Model to Estimate Camera Motion\n",
    "\n",
    "---\n",
    "\n",
    "## Theory\n",
    "In this bonus task you have to implement Optical Flow algorithm to estimate motion of the camera. Recall that images captured by a camera is a 2D projection of a 3D point on the camera's image sensor. By using pinhole camera model we can approximately determine the relationship between this 3D coordinate point to 2D point on the image plane. This relationship is:\n",
    "\n",
    "$$\n",
    "[x', y']^T = \\frac{f}{z}[x, y]^T\n",
    "$$\n",
    "\n",
    "Here, $x'$ and $y'$ is 2D projection of 3D point $P = [x, y, z]^T$ on the image plane and $f$ is the focal length of the camera. If you want to study in detail about camera model follow this [link](https://web.stanford.edu/class/cs231a/course_notes/01-camera-models.pdf)\n",
    "\n",
    "### Optical flow\n",
    "Optical flow is the apparent motion of image object between two consecutive frames due to the relative motion between the camera and the object. In a layman term, optical flow is velocity of certain pixel point on the image. Consider the example given below:\n",
    "![](https://github.com/ee604/ee604_assignments/raw/master/assignment_1/imgs/t4_1.png)\n",
    "\n",
    "In the example given above you can see the the pixel velocity for the green object will be $[2/\\Delta t, 1/\\Delta t]^T$. Where $\\Delta t = t_2 - t_1$. Basically, this pixel velocity is the optical flow for the green object. For a more formal defination, you can check this [link](https://en.wikipedia.org/wiki/Optical_flow)\n",
    "\n",
    "### Estimating camera velocity from optical flow\n",
    "Now come back to the pinhole camera model. If we somehow calculate the camera distance from the object (i.e. $z$), we can easily estimate the motion of the green object with relative to the camera. Let's this relative velocity is $[v_x, v_y]^T$, then: \n",
    "\n",
    "$$\n",
    "[v_x, v_y]^T = \\frac{z}{f}[\\Delta x'/\\Delta t, \\Delta y'/\\Delta t]^T = \\frac{z}{f}[2/\\Delta t, 1/\\Delta t]^T\n",
    "$$\n",
    " \n",
    "As we know, the green object was at rest. The motion of the camera will be $[-v_x, -v_y]^T$. This was just an intuitive explanation. And there exist numbers of different method to estimate optical flow. Also in actual implementation we do not calculate camera velocity using only one but instead we estimate the camera velocity by multiple points and then take the average.\n",
    "\n",
    "---\n",
    "\n",
    "## Your Task\n",
    "Given an input video with some **N** number of known static objects. Estimate the camera motion. We have simplified the problem for you, the sample video contains 10 objects on a white background, all the 10 objects are either red i.e. image location having value `[255, 0, 0]`, blue (`[0, 0, 255]`), or green (`[0, 255, 0]`) in RGB notation. Following are the other usefull parameters.\n",
    "\n",
    "* focal length $f = 10mm$\n",
    "* Perpendicular distance of the camera from the scene, i.e. $z = 60cm$\n",
    "* Sensor size = 1cm x 1cm\n",
    "* $\\Delta t$: You do not need this. Hint: you know how to calculate fps for a video right?\n",
    "\n",
    "**Calculate the camera motion ($v_{cx}$ and $v_{cy}$) in $cm/s$ and plot $v_{cx}$ vs $t$ and $v_{cy}$ vs $t$ plot**\n",
    "\n",
    "**Note:** You can use openCV modules for reading video files, thresholding etc. But you should not use any direct implementation for features extraction or optical flow calculation."
   ]
  },
  {
   "cell_type": "code",
   "execution_count": null,
   "metadata": {},
   "outputs": [],
   "source": [
    "%%bash\n",
    "pip install git+https://github.com/ee604/ee604_plugins"
   ]
  },
  {
   "cell_type": "code",
   "execution_count": null,
   "metadata": {},
   "outputs": [],
   "source": [
    "# Importing required libraries\n",
    "\n",
    "import cv2\n",
    "import numpy as np\n",
    "from IPython.display import display\n",
    "from PIL import Image\n",
    "import matplotlib.pyplot as plt\n",
    "\n",
    "from ee604_plugins import download_dataset, playVideo\n",
    "\n",
    "download_dataset(assignment_no=1, task_no=4)"
   ]
  },
  {
   "cell_type": "code",
   "execution_count": null,
   "metadata": {
    "scrolled": true
   },
   "outputs": [],
   "source": [
    "# This is the video\n",
    "playVideo(\"data/optical_flow.mp4\", width=600, height=600)"
   ]
  },
  {
   "cell_type": "code",
   "execution_count": null,
   "metadata": {},
   "outputs": [],
   "source": [
    "def calculate_motion(video_path, video_length=50, f=1, z=60):\n",
    "    '''    \n",
    "    Inputs:                      \n",
    "    + video - path to the video file using which you will estimate camera motion\n",
    "    + video_length - this is the length of your video in secs\n",
    "    + f - focal length\n",
    "    + z - perpendicular distance of the camera from objects\n",
    "    \n",
    "    Ouputs:\n",
    "    + v_cx - camera velocity in x direction at time 't'\n",
    "    + v_cy - camera velocity in y direction at time 't'\n",
    "    + t - time 't'\n",
    "    \n",
    "    Allowed external package:\n",
    "    + You must not use any direct implementation of optical flow\n",
    "    \n",
    "    '''\n",
    "    \n",
    "    #############################\n",
    "    # Start your code from here #\n",
    "    #############################\n",
    "    \n",
    "    # Replace with your code...\n",
    "    \n",
    "    #############################\n",
    "    # End your code here ########\n",
    "    #############################    \n",
    "    \n",
    "    return v_cx, v_cy, t"
   ]
  },
  {
   "cell_type": "code",
   "execution_count": null,
   "metadata": {},
   "outputs": [],
   "source": [
    "v_cx, v_cy, t = calculate_motion(\"data/optical_flow.mp4\")\n",
    "\n",
    "plt.plot(t, v_cx, label=\"v_cx\")\n",
    "plt.plot(t, v_cy, label=\"v_cy\")\n",
    "plt.show()"
   ]
  }
 ],
 "metadata": {
  "kernelspec": {
   "display_name": "Python 3",
   "language": "python",
   "name": "python3"
  },
  "language_info": {
   "codemirror_mode": {
    "name": "ipython",
    "version": 3
   },
   "file_extension": ".py",
   "mimetype": "text/x-python",
   "name": "python",
   "nbconvert_exporter": "python",
   "pygments_lexer": "ipython3",
   "version": "3.7.6"
  }
 },
 "nbformat": 4,
 "nbformat_minor": 4
}
