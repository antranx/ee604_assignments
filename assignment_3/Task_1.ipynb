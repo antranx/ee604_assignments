{
 "cells": [
  {
   "cell_type": "code",
   "execution_count": null,
   "metadata": {},
   "outputs": [],
   "source": [
    "# Copyright 2020 IITK EE604A Image Processing. All Rights Reserved.\n",
    "# \n",
    "# Licensed under the MIT License. Use and/or modification of this code outside of EE604 must reference:\n",
    "#\n",
    "# © IITK EE604A Image Processing \n",
    "# https://github.com/ee604/ee604_assignments\n",
    "#\n",
    "# Author: Shashi Kant Gupta, Chiranjeev Prachand and Prof K. S. Venkatesh, Department of Electrical Engineering, IIT Kanpur"
   ]
  },
  {
   "cell_type": "markdown",
   "metadata": {},
   "source": [
    "# Task 1: Frequency Domain Analysis - Resizing\n",
    "\n",
    "Remember, we already did this using operation in the spatial domain (interpolation methods)? Now let's do the same thing using frequency domain analysis."
   ]
  },
  {
   "cell_type": "code",
   "execution_count": null,
   "metadata": {},
   "outputs": [],
   "source": [
    "%%bash\n",
    "pip install git+https://github.com/ee604/ee604_plugins"
   ]
  },
  {
   "cell_type": "code",
   "execution_count": null,
   "metadata": {},
   "outputs": [],
   "source": [
    "# Importing required libraries\n",
    "\n",
    "import cv2\n",
    "import numpy as np\n",
    "import matplotlib.pyplot as plt\n",
    "\n",
    "from ee604_plugins import download_dataset, cv2_imshow\n",
    "\n",
    "download_dataset(assignment_no=3, task_no=1) # download data for this assignment"
   ]
  },
  {
   "cell_type": "code",
   "execution_count": null,
   "metadata": {},
   "outputs": [],
   "source": [
    "def resize_ft(img, k=1):\n",
    "    '''\n",
    "    Write a program to resize the given image by a factor 'k' using frequency domain analysis.\n",
    "    \n",
    "    Inputs:\n",
    "    + img - Original image\n",
    "    + k - resampling factor, therefore if input image size is 300x300 \n",
    "        - and k=0.5 ==> output image size = 150x150\n",
    "        - use int(k*input_image_size) to find the nearest integer\n",
    "    \n",
    "    Ouputs:\n",
    "    + out_img - numpy array (of dtype np.uint8) containing the output image.\n",
    "              - range should be between (0, 255) which may not be the case when u run the inverse DFT. \n",
    "              - Therefore, normalise the image by img = (img - min(img))/max(img) to rescale the values to (0, 255)\n",
    "    \n",
    "    Allowed external package:\n",
    "    + You are allowed to use any cv2.dft or cv2.idft module or any other suitable module in numpy and cv2 \n",
    "    + Just make sure you do not use any direct implementation.\n",
    "    \n",
    "    Hints:\n",
    "    + For upscaling - pad the frquency domain signal with zeros around the center of the image. \n",
    "    + For downscaling - crop the frequency domain signal at the centre of required size.\n",
    "    + PS - Make sure to use proper shift operation on output of cv2.dft so that your frequency domain signal \n",
    "         - assumes the centre of the image to be origin\n",
    "    \n",
    "    '''\n",
    "    \n",
    "    #############################\n",
    "    # Start your code from here #\n",
    "    #############################\n",
    "    \n",
    "    # Replace with your code...\n",
    "    \n",
    "    #############################\n",
    "    # End your code here ########\n",
    "    #############################    \n",
    "    \n",
    "    return out_img"
   ]
  },
  {
   "cell_type": "markdown",
   "metadata": {},
   "source": [
    "### Observations"
   ]
  },
  {
   "cell_type": "code",
   "execution_count": null,
   "metadata": {},
   "outputs": [],
   "source": [
    "# Do not change codes inside this cell\n",
    "# Add your observations in next cell\n",
    "# Your observation should compare the output for different values of k\n",
    "\n",
    "data = cv2.imread(\"data/parallel_lines.jpg\", 0)\n",
    "\n",
    "print(\"Original\")\n",
    "cv2_imshow(data)\n",
    "\n",
    "for k in [0.49, 0.5, 0.51, 1.96, 2, 2.04]:\n",
    "    tmp = resize_ft(data, k=k)\n",
    "    print(\" k = \" + str(k))\n",
    "    cv2_imshow(tmp)"
   ]
  },
  {
   "cell_type": "code",
   "execution_count": null,
   "metadata": {},
   "outputs": [],
   "source": [
    "your_observation = \"\"\"\n",
    "Replace this with your observations.\n",
    "\"\"\"\n",
    "\n",
    "print(your_observation)"
   ]
  },
  {
   "cell_type": "code",
   "execution_count": null,
   "metadata": {},
   "outputs": [],
   "source": [
    "# Submission >>>>>>>>>>>>>>>>>>>>>\n",
    "# Do not change codes inside this cell.\n",
    "\n",
    "gen_imgs = []\n",
    "data = cv2.imread(\"data/parallel_lines.jpg\", 0)\n",
    "\n",
    "for k in [0.49, 0.5, 0.51, 1.96, 2, 2.04]:\n",
    "    tmp = resize_ft(data, k=k)\n",
    "    gen_imgs.append(tmp)\n",
    "\n",
    "task1_submission = np.array(gen_imgs)"
   ]
  },
  {
   "cell_type": "code",
   "execution_count": null,
   "metadata": {},
   "outputs": [],
   "source": []
  }
 ],
 "metadata": {
  "kernelspec": {
   "display_name": "Python 3",
   "language": "python",
   "name": "python3"
  },
  "language_info": {
   "codemirror_mode": {
    "name": "ipython",
    "version": 3
   },
   "file_extension": ".py",
   "mimetype": "text/x-python",
   "name": "python",
   "nbconvert_exporter": "python",
   "pygments_lexer": "ipython3",
   "version": "3.7.6"
  }
 },
 "nbformat": 4,
 "nbformat_minor": 4
}
