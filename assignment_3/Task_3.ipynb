{
 "cells": [
  {
   "cell_type": "code",
   "execution_count": null,
   "metadata": {},
   "outputs": [],
   "source": [
    "# Copyright 2020 IITK EE604A Image Processing. All Rights Reserved.\n",
    "# \n",
    "# Licensed under the MIT License. Use and/or modification of this code outside of EE604 must reference:\n",
    "#\n",
    "# © IITK EE604A Image Processing \n",
    "# https://github.com/ee604/ee604_assignments\n",
    "#\n",
    "# Author: Shashi Kant Gupta, Chiranjeev Prachand and Prof K. S. Venkatesh, Department of Electrical Engineering, IIT Kanpur"
   ]
  },
  {
   "cell_type": "markdown",
   "metadata": {},
   "source": [
    "# Task 3: Color Image Processing: Revisiting Histogram Equalization\n",
    "\n",
    "While going through the lecture notes for processing colored images, you must have realized that it's as easy as applying the operation on individual RGB channels. An alternate way to do a similar thing is converting the RGB image to HSI and then apply the operation only on the 'I' channel, which produces more or less similar results to the RGB method. But this isn't always true specifically for the histogram equalization RGB method fails to preserve the original image's color.\n",
    "\n",
    "In this task, we will explore both methods for histogram equalization.\n",
    "\n",
    "**Note:** Instead of using HSI, we will use HSV. HSV is similar to HSI (not the same). Use channel 'V' in place 'I' in your algorithm."
   ]
  },
  {
   "cell_type": "code",
   "execution_count": null,
   "metadata": {},
   "outputs": [],
   "source": [
    "%%bash\n",
    "pip install git+https://github.com/ee604/ee604_plugins"
   ]
  },
  {
   "cell_type": "code",
   "execution_count": null,
   "metadata": {},
   "outputs": [],
   "source": [
    "# Importing required libraries\n",
    "\n",
    "import cv2\n",
    "import numpy as np\n",
    "import matplotlib.pyplot as plt\n",
    "\n",
    "from ee604_plugins import download_dataset, cv2_imshow\n",
    "download_dataset(assignment_no=3, task_no=3) # download data for this assignment"
   ]
  },
  {
   "cell_type": "code",
   "execution_count": null,
   "metadata": {},
   "outputs": [],
   "source": [
    "def histogram_eq_rgb(img):\n",
    "    '''\n",
    "    Write a program to implement histogram equalization by \n",
    "    applying equalization operation on each of the individual RGB channel\n",
    "    \n",
    "    Inputs:\n",
    "    + img - colored image of size N x N x 3\n",
    "          - values between [0, 255] - 'uint8'\n",
    "    \n",
    "    Ouputs:\n",
    "    + out_img - Equalized image of size N x N x 3\n",
    "              - values between [0, 255] - 'uint8'\n",
    "    \n",
    "    Allowed modules:\n",
    "    + You are allowed to use cv2.equalizeHist() or any other relevant module.\n",
    "    \n",
    "    Hint:\n",
    "    + Not needed.\n",
    "    \n",
    "    '''\n",
    "    \n",
    "    #############################\n",
    "    # Start your code from here #\n",
    "    #############################\n",
    "    \n",
    "    # Replace with your code...\n",
    "    \n",
    "    #############################\n",
    "    # End your code here ########\n",
    "    #############################    \n",
    "    \n",
    "    return out_img"
   ]
  },
  {
   "cell_type": "code",
   "execution_count": null,
   "metadata": {},
   "outputs": [],
   "source": [
    "def histogram_eq_hsv(img):\n",
    "    '''\n",
    "    Write a program to implement histogram equalization by \n",
    "    applying equalization operation only on the 'V' channel\n",
    "    \n",
    "    Inputs:\n",
    "    + img - colored image of size N x N x 3\n",
    "          - values between [0, 255] - 'uint8'\n",
    "    \n",
    "    Ouputs:\n",
    "    + out_img - Equalized image of size N x N x 3\n",
    "              - values between [0, 255] - 'uint8'\n",
    "    \n",
    "    Allowed modules:\n",
    "    + You are allowed to use cv2.equalizeHist() or any other relevant module.\n",
    "    \n",
    "    Hint:\n",
    "    + Not needed.\n",
    "    \n",
    "    '''\n",
    "    \n",
    "    #############################\n",
    "    # Start your code from here #\n",
    "    #############################\n",
    "    \n",
    "    # Replace with your code...\n",
    "    \n",
    "    #############################\n",
    "    # End your code here ########\n",
    "    #############################    \n",
    "    \n",
    "    return out_img"
   ]
  },
  {
   "cell_type": "code",
   "execution_count": null,
   "metadata": {},
   "outputs": [],
   "source": [
    "def histogram_eq_hsv_multi(img):\n",
    "    '''\n",
    "    Write a program to implement histogram equalization by \n",
    "    applying equalization operation on all the three HSV channels\n",
    "    \n",
    "    Inputs:\n",
    "    + img - colored image of size N x N x 3\n",
    "          - values between [0, 255] - 'uint8'\n",
    "    \n",
    "    Ouputs:\n",
    "    + out_img - Equalized image of size N x N x 3\n",
    "              - values between [0, 255] - 'uint8'\n",
    "    \n",
    "    Allowed modules:\n",
    "    + You are allowed to use cv2.equalizeHist() or any other relevant module.\n",
    "    \n",
    "    Hint:\n",
    "    + Not needed.\n",
    "    \n",
    "    '''\n",
    "    \n",
    "    #############################\n",
    "    # Start your code from here #\n",
    "    #############################\n",
    "    \n",
    "    # Replace with your code...\n",
    "    \n",
    "    #############################\n",
    "    # End your code here ########\n",
    "    #############################    \n",
    "    \n",
    "    return out_img"
   ]
  },
  {
   "cell_type": "markdown",
   "metadata": {},
   "source": [
    "### Observations"
   ]
  },
  {
   "cell_type": "code",
   "execution_count": null,
   "metadata": {},
   "outputs": [],
   "source": [
    "# Do not change codes inside this cell\n",
    "# Add your observations in next to next cell\n",
    "# Your observation should compare different methods for different images\n",
    "# Try to explain why RGB method does not work\n",
    "\n",
    "deer_pixabay = cv2.imread(\"data/uneq_deer_pixabay.jpg\")\n",
    "japanese_umbrellas_pixabay = cv2.imread(\"data/uneq_japanese_umbrellas_pixabay.jpg\")\n",
    "\n",
    "def plot_frame(gridx, gridy, subplot_id, img, name):\n",
    "    plt.subplot(gridx, gridy, 1 + int(subplot_id))\n",
    "    plt.imshow(np.uint8(img[:, :, [2, 1, 0]]))\n",
    "    plt.axis(\"off\")\n",
    "    plt.title(name)"
   ]
  },
  {
   "cell_type": "code",
   "execution_count": null,
   "metadata": {
    "scrolled": false
   },
   "outputs": [],
   "source": [
    "# Do not change codes inside this cell\n",
    "fig = plt.figure(figsize=(16, 10))\n",
    "plot_frame(2, 2, 0, japanese_umbrellas_pixabay, \"Original\")\n",
    "\n",
    "tmp = histogram_eq_rgb(japanese_umbrellas_pixabay)\n",
    "plot_frame(2, 2, 1, tmp, \"RGB\")\n",
    "\n",
    "tmp = histogram_eq_hsv(japanese_umbrellas_pixabay)\n",
    "plot_frame(2, 2, 2, tmp, \"HSV (only V)\")\n",
    "\n",
    "tmp = histogram_eq_hsv_multi(japanese_umbrellas_pixabay)\n",
    "plot_frame(2, 2, 3, tmp, \"HSV (all)\")\n",
    "\n",
    "fig.suptitle('Japanese Umbrellas', fontsize=18, y=1.03)\n",
    "fig.tight_layout()\n",
    "plt.show()\n",
    "\n",
    "print(\"---------------------------------------------------------------------------------------------\")\n",
    "\n",
    "fig = plt.figure(figsize=(16, 10))\n",
    "plot_frame(2, 2, 0, deer_pixabay, \"Original\")\n",
    "\n",
    "tmp = histogram_eq_rgb(deer_pixabay)\n",
    "plot_frame(2, 2, 1, tmp, \"RGB\")\n",
    "\n",
    "tmp = histogram_eq_hsv(deer_pixabay)\n",
    "plot_frame(2, 2, 2, tmp, \"HSV (only V)\")\n",
    "\n",
    "tmp = histogram_eq_hsv_multi(deer_pixabay)\n",
    "plot_frame(2, 2, 3, tmp, \"HSV (all)\")\n",
    "\n",
    "fig.suptitle('Deer', fontsize=18, y=1.03)\n",
    "fig.tight_layout()\n",
    "plt.show()"
   ]
  },
  {
   "cell_type": "code",
   "execution_count": null,
   "metadata": {},
   "outputs": [],
   "source": [
    "your_observation = \"\"\"\n",
    "Replace this with your observations.\n",
    "\"\"\"\n",
    "\n",
    "print(your_observation)"
   ]
  },
  {
   "cell_type": "code",
   "execution_count": null,
   "metadata": {},
   "outputs": [],
   "source": []
  }
 ],
 "metadata": {
  "kernelspec": {
   "display_name": "Python 3",
   "language": "python",
   "name": "python3"
  },
  "language_info": {
   "codemirror_mode": {
    "name": "ipython",
    "version": 3
   },
   "file_extension": ".py",
   "mimetype": "text/x-python",
   "name": "python",
   "nbconvert_exporter": "python",
   "pygments_lexer": "ipython3",
   "version": "3.7.6"
  }
 },
 "nbformat": 4,
 "nbformat_minor": 4
}
