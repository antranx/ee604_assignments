{
 "cells": [
  {
   "cell_type": "code",
   "execution_count": null,
   "metadata": {},
   "outputs": [],
   "source": [
    "# Copyright 2020 IITK EE604A Image Processing. All Rights Reserved.\n",
    "# \n",
    "# Licensed under the MIT License. Use and/or modification of this code outside of EE604 must reference:\n",
    "#\n",
    "# © IITK EE604A Image Processing \n",
    "# https://github.com/ee604/ee604_assignments\n",
    "#\n",
    "# Author: Shashi Kant Gupta, Chiranjeev Prachand and Prof K. S. Venkatesh, Department of Electrical Engineering, IIT Kanpur"
   ]
  },
  {
   "cell_type": "markdown",
   "metadata": {},
   "source": [
    "# Task 4 (Bonus Question): Removing Motion Blur\n",
    "\n",
    "In this task, you guys have to help me restore a blurred image of a Diya scene, which I captured while traveling via my car. See the image below:\n",
    "\n",
    "![](https://github.com/ee604/ee604_assignments/raw/master/assignment_3/imgs/diya_mb.png)\n",
    "\n",
    "<br>\n",
    "Since I only came to know about the image's low-quality next day and it's not possible to go back in time to capture that image again, the only possible option is to restore that blurred image. I know that my mobile phone has an excellent camera sensor and the only possible reason for the blurred image is due to my car's motion. I tried to simulate a similar situation and captured a photo of a templated image to help you.\n",
    "\n",
    "![](https://github.com/ee604/ee604_assignments/raw/master/assignment_3/imgs/template_img.png)\n",
    "\n",
    "### Your Task\n",
    "Use the template image to restore the image of Diya scene. Your not allowed to use any external library specifically meant for restoration purpose. Follow along the following hints to achieve your target:\n",
    "* Follow the following restoration equation: $G(x, y) = F(x, y)H(x, y) + N(x, y)$; where G represents the blurred image and F original image.\n",
    "* Consider there is negligible noise while capturing the template image\n",
    "* Refer to numpy.fft module for most of the fourier analysis\n",
    "* Refer to lecture slides on Weiner Filtering. For additional reference, you can refer to [this](https://www.ee.columbia.edu/~xlx/ee4830/notes/lec7.pdf)\n",
    "\n",
    "There are two images on which your algorithm will be tested. Try to achieve as clear images as possible for both of the cases. Note that both of the images may need different values for the parameter. For example, if you use Weiner Filter for restoration, the value of parameter $K = \\frac{S_\\eta}{S_f}$ can be different for both images. You are supposed to tune that manually. In your observations, explain why you needed/ not needed different parameter values for the two images."
   ]
  },
  {
   "cell_type": "code",
   "execution_count": null,
   "metadata": {},
   "outputs": [],
   "source": [
    "%%bash\n",
    "pip install git+https://github.com/ee604/ee604_plugins"
   ]
  },
  {
   "cell_type": "code",
   "execution_count": null,
   "metadata": {},
   "outputs": [],
   "source": [
    "# Importing required libraries\n",
    "\n",
    "import cv2\n",
    "import numpy as np\n",
    "from IPython.display import display\n",
    "from PIL import Image\n",
    "import matplotlib.pyplot as plt\n",
    "\n",
    "from ee604_plugins import download_dataset\n",
    "\n",
    "download_dataset(assignment_no=3, task_no=4)"
   ]
  },
  {
   "cell_type": "code",
   "execution_count": null,
   "metadata": {},
   "outputs": [],
   "source": [
    "template_input = np.load(\"data/template_input.npy\")\n",
    "template_output = np.load(\"data/template_output.npy\")\n",
    "\n",
    "diya_motion_blur = np.load(\"data/diya_motion_blur.npy\")\n",
    "diya_motion_blur_nd_noise = np.load(\"data/diya_motion_blur_nd_noise.npy\")"
   ]
  },
  {
   "cell_type": "code",
   "execution_count": null,
   "metadata": {},
   "outputs": [],
   "source": [
    "def restoreImage(img, template_input_img, template_output_img, param=None):\n",
    "    '''    \n",
    "    Inputs:                      \n",
    "    + img - image which need to be restored\n",
    "    + template_input_img - original image of the template\n",
    "    + template_output_img - captured image of the template\n",
    "    + param - a python dictionary of different parameter value that you will use.\n",
    "            - https://www.tutorialspoint.com/python/python_dictionary.htm\n",
    "    \n",
    "    Ouputs:\n",
    "    + out_img - restored image\n",
    "    \n",
    "    Allowed external package:\n",
    "    + You are free to use any OpenCV/numpy module except any direct implementation meant for this task.\n",
    "    \n",
    "    '''\n",
    "    out_img = np.copy(img)\n",
    "    \n",
    "    #############################\n",
    "    # Start your code from here #\n",
    "    #############################\n",
    "    \n",
    "    # Replace with your code...\n",
    "    \n",
    "    #############################\n",
    "    # End your code here ########\n",
    "    #############################\n",
    "    \n",
    "    return out_img"
   ]
  },
  {
   "cell_type": "code",
   "execution_count": null,
   "metadata": {},
   "outputs": [],
   "source": [
    "def plot_frame(gridx, gridy, subplot_id, img, name):\n",
    "    plt.subplot(gridx, gridy, int(subplot_id))\n",
    "    plt.imshow(img)\n",
    "    plt.axis(\"off\")\n",
    "    plt.title(name)"
   ]
  },
  {
   "cell_type": "code",
   "execution_count": null,
   "metadata": {},
   "outputs": [],
   "source": [
    "# Define your parameters for different images in this cell\n",
    "# Use the empty dictionary declared below inside your code to store the param values the two images\n",
    "\n",
    "param_diya_motion_blur = {}\n",
    "param_diya_motion_blur_nd_noise = {}\n",
    "\n",
    "#############################\n",
    "# Start your code from here #\n",
    "#############################\n",
    "\n",
    "# Replace with your code...\n",
    "\n",
    "#############################\n",
    "# End your code here ########\n",
    "#############################"
   ]
  },
  {
   "cell_type": "code",
   "execution_count": null,
   "metadata": {},
   "outputs": [],
   "source": [
    "restored = restoreImage(diya_motion_blur, template_input, template_output, param=param_diya_motion_blur)\n",
    "fig = plt.figure(figsize=(13, 9))\n",
    "plt.gray()\n",
    "plot_frame(1, 2, 1, diya_motion_blur, \"Captured Image\")\n",
    "plot_frame(1, 2, 2, restored, \"Restored Image\")\n",
    "fig.suptitle('Motion Blur', fontsize=18, y=0.79)\n",
    "plt.tight_layout()\n",
    "plt.show()\n",
    "\n",
    "print(\"\\n\\n\")\n",
    "\n",
    "restored = restoreImage(diya_motion_blur_nd_noise, template_input, template_output, param=param_diya_motion_blur_nd_noise)\n",
    "fig = plt.figure(figsize=(13, 9))\n",
    "plt.gray()\n",
    "plot_frame(1, 2, 1, diya_motion_blur, \"Captured Image\")\n",
    "plot_frame(1, 2, 2, restored, \"Restored Image\")\n",
    "fig.suptitle('Motion Blur and Noise', fontsize=18, y=0.79)\n",
    "plt.tight_layout()\n",
    "plt.show()"
   ]
  },
  {
   "cell_type": "code",
   "execution_count": null,
   "metadata": {},
   "outputs": [],
   "source": []
  }
 ],
 "metadata": {
  "kernelspec": {
   "display_name": "Python 3",
   "language": "python",
   "name": "python3"
  },
  "language_info": {
   "codemirror_mode": {
    "name": "ipython",
    "version": 3
   },
   "file_extension": ".py",
   "mimetype": "text/x-python",
   "name": "python",
   "nbconvert_exporter": "python",
   "pygments_lexer": "ipython3",
   "version": "3.7.6"
  }
 },
 "nbformat": 4,
 "nbformat_minor": 4
}
